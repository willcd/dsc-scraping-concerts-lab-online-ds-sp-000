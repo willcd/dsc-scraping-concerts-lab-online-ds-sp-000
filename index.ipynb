{
 "cells": [
  {
   "cell_type": "markdown",
   "metadata": {},
   "source": [
    "# Scraping Concerts - Lab\n",
    "\n",
    "## Introduction\n",
    "\n",
    "Now that you've seen how to scrape a simple website, it's time to again practice those skills on a full-fledged site!\n",
    "In this lab, you'll practice your scraping skills on a music website: https://www.residentadvisor.net.\n",
    "## Objectives\n",
    "\n",
    "You will be able to:\n",
    "* Create a full scraping pipeline that involves traversing over many pages of a website, dealing with errors and storing data"
   ]
  },
  {
   "cell_type": "markdown",
   "metadata": {},
   "source": [
    "## View the Website\n",
    "\n",
    "For this lab, you'll be scraping the https://www.residentadvisor.net website. Start by navigating to the events page [here](https://www.residentadvisor.net/events) in your browser.\n",
    "\n",
    "<img src=\"images/ra.png\">"
   ]
  },
  {
   "cell_type": "code",
   "execution_count": 1,
   "metadata": {},
   "outputs": [],
   "source": [
    "# Load the https://www.residentadvisor.net/events page in your browser."
   ]
  },
  {
   "cell_type": "markdown",
   "metadata": {},
   "source": [
    "## Open the Inspect Element Feature\n",
    "\n",
    "Next, open the inspect element feature from your web browser in order to preview the underlying HTML associated with the page."
   ]
  },
  {
   "cell_type": "code",
   "execution_count": 2,
   "metadata": {},
   "outputs": [],
   "source": [
    "# Open the inspect element feature in your browser"
   ]
  },
  {
   "cell_type": "markdown",
   "metadata": {},
   "source": [
    "## Write a Function to Scrape all of the Events on the Given Page Events Page\n",
    "\n",
    "The function should return a Pandas DataFrame with columns for the Event_Name, Venue, Event_Date and Number_of_Attendees."
   ]
  },
  {
   "cell_type": "markdown",
   "metadata": {},
   "source": [
    "# Check it out:\n",
    "### Unfortunately, \"residentadvisor.net\" does NOT work with this exercise. It seems like the site has been drastically altered from the version in the screenshot above, and BeautifulSoup returns an html page that contains alerts/errors because of security measures detecting the scrape, and keeping it from working properly.\n",
    "### After checking lots of other sites looking for similar layout/functionality for this Lab, and that would allow scraping, I found \"concerts50.com\" which seems to work pretty well, it has a list of events that can be navigated with page buttons.\n",
    "### Hopefully this covers it! Since there is no data for Number_Of_Attendees, I scraped the city where the events are taking place."
   ]
  },
  {
   "cell_type": "code",
   "execution_count": 3,
   "metadata": {},
   "outputs": [],
   "source": [
    "import re\n",
    "import numpy as np\n",
    "import pandas as pd\n",
    "import requests\n",
    "from bs4 import BeautifulSoup\n",
    "import time\n",
    "#Exploration; designing/testing function parts\n",
    "response = requests.get(\"https://concerts50.com/upcoming-concerts-in-new-york\")\n",
    "soup = BeautifulSoup(response.content, 'html.parser')"
   ]
  },
  {
   "cell_type": "code",
   "execution_count": 4,
   "metadata": {
    "scrolled": false
   },
   "outputs": [
    {
     "data": {
      "text/plain": [
       "'/upcoming-concerts-in-new-york/2'"
      ]
     },
     "execution_count": 4,
     "metadata": {},
     "output_type": "execute_result"
    }
   ],
   "source": [
    "next_button = soup.find('a', string='>')\n",
    "next_button['href']"
   ]
  },
  {
   "cell_type": "code",
   "execution_count": 5,
   "metadata": {},
   "outputs": [],
   "source": [
    "events = soup.find('tbody').findAll('tr')"
   ]
  },
  {
   "cell_type": "code",
   "execution_count": 6,
   "metadata": {
    "scrolled": false
   },
   "outputs": [
    {
     "name": "stdout",
     "output_type": "stream",
     "text": [
      "<tr class=\"row event-item\" itemscope=\"\" itemtype=\"http://schema.org/Event\">\n",
      " <td class=\"d-inline-block col-3 col-md-2 text-left date\">\n",
      "  <meta content=\"2021-03-31\" itemprop=\"startDate\"/>\n",
      "  <span itemprop=\"location\" itemscope=\"\" itemtype=\"http://schema.org/Place\">\n",
      "   <span content=\"Daryl's House\" itemprop=\"name\">\n",
      "   </span>\n",
      "   <span itemprop=\"address\" itemscope=\"\" itemtype=\"http://schema.org/PostalAddress\">\n",
      "    <abbr content=\"Pawling\" itemprop=\"addressLocality\">\n",
      "    </abbr>\n",
      "    <abbr content=\"NY\" itemprop=\"addressRegion\">\n",
      "    </abbr>\n",
      "    <abbr content=\"US\" itemprop=\"addressCountry\">\n",
      "    </abbr>\n",
      "   </span>\n",
      "  </span>\n",
      "  <span class=\"d-inline-block\">\n",
      "   Wed,\n",
      "  </span>\n",
      "  <span class=\"event-time\">\n",
      "   6:00 PM\n",
      "  </span>\n",
      "  <br/>\n",
      "  <b class=\"d-inline-block\">\n",
      "   Mar 31\n",
      "  </b>\n",
      "  <br/>\n",
      "  <span class=\"d-inline-block text-left\">\n",
      "   2021\n",
      "  </span>\n",
      " </td>\n",
      " <td class=\"col-2 col-md-1 col-lg-1 image\">\n",
      "  <img alt=\"Chris Raabe\" src=\"/uploads/artist/chris-raabe/xs/image.jpg\" style=\"display: inline-block; border-radius: 10px; object-fit: cover; height: 60px; width: 60px;\"/>\n",
      " </td>\n",
      " <td class=\"d-inline-block col-4 col-md-7 col-lg-7 name\">\n",
      "  <p itemprop=\"name\">\n",
      "   <a href=\"/artists/chris-raabe-tour-dates-usa\" style=\"word-break: break-word;\">\n",
      "    Chris Raabe\n",
      "   </a>\n",
      "  </p>\n",
      "  <div>\n",
      "   <i class=\"d-none d-md-inline-block fa fa-map-marker\">\n",
      "   </i>\n",
      "   Daryl's House -\n",
      "   <a href=\"/upcoming-concerts-in-new-york/pawling\">\n",
      "    Pawling\n",
      "   </a>\n",
      "   , NY\n",
      "  </div>\n",
      " </td>\n",
      " <td class=\"d-inline-block col-3 col-md-2 text-right ticket\">\n",
      "  <span class=\"btn_tickets_text\">\n",
      "   <a class=\"ticket-btn\" href=\"javascript:void(0);\" target=\"_blank\" x-url=\"https://ticketmaster.evyy.net/c/1290343/271177/4272?u=https%3A%2F%2Fwww.ticketweb.com%2Fevent%2Fchris-raabe-daryls-house-tickets%2F10866265\">\n",
      "    <div class=\"a-block\">\n",
      "     Tickets\n",
      "    </div>\n",
      "   </a>\n",
      "   <small id=\"ticket_5858\" x-name=\"Ticketweb\">\n",
      "   </small>\n",
      "  </span>\n",
      " </td>\n",
      "</tr>\n",
      "\n"
     ]
    }
   ],
   "source": [
    "print(events[0].prettify())"
   ]
  },
  {
   "cell_type": "code",
   "execution_count": 7,
   "metadata": {},
   "outputs": [
    {
     "data": {
      "text/plain": [
       "False"
      ]
     },
     "execution_count": 7,
     "metadata": {},
     "output_type": "execute_result"
    }
   ],
   "source": [
    "'disabled' in soup.find('ul', id='yw0').findAll('li')[6]['class']"
   ]
  },
  {
   "cell_type": "code",
   "execution_count": 8,
   "metadata": {},
   "outputs": [
    {
     "data": {
      "text/plain": [
       "'/upcoming-concerts-in-new-york/2'"
      ]
     },
     "execution_count": 8,
     "metadata": {},
     "output_type": "execute_result"
    }
   ],
   "source": [
    "soup.find('ul', id='yw0').findAll('li')[6].find('a')['href']"
   ]
  },
  {
   "cell_type": "code",
   "execution_count": 15,
   "metadata": {},
   "outputs": [],
   "source": [
    "def get_soup(url):\n",
    "    html = requests.get(url)\n",
    "    soup = BeautifulSoup(html.content, 'html.parser')\n",
    "    events = soup.find('tbody').findAll('tr')\n",
    "    return soup, events"
   ]
  },
  {
   "cell_type": "code",
   "execution_count": 19,
   "metadata": {},
   "outputs": [],
   "source": [
    "def parse_event(event):\n",
    "    name = event.find('p', itemprop='name').find('a').text\n",
    "    venue = event.find('span', itemprop='name')['content']\n",
    "    date = event.find('meta')['content']\n",
    "    city = event.find('abbr', itemprop=\"addressLocality\")['content']\n",
    "    return {\"Event_Name\": name, \"Venue\": venue, \"Event_Date\": date, \"City\": city}"
   ]
  },
  {
   "cell_type": "code",
   "execution_count": 17,
   "metadata": {},
   "outputs": [],
   "source": [
    "def scrape_events(events_page_url):\n",
    "    # initialize with the first page of events\n",
    "    this_soup, this_events = get_soup(events_page_url)\n",
    "    \n",
    "    rows = []\n",
    "    \n",
    "    # iterate through events on each page, until the last page is found\n",
    "    while 'disabled' not in this_soup.find('ul', id='yw0').findAll('li')[6]['class']:\n",
    "        for event in this_events:\n",
    "            rows.append(parse_event(event))\n",
    "        next_url = \"https://concerts50.com\" + this_soup.find('ul', id='yw0').findAll('li')[6].find('a')['href']\n",
    "        this_soup, this_events = get_soup(next_url)\n",
    "    \n",
    "    # Now to append the last page of events\n",
    "    for event in this_events:\n",
    "        rows.append(parse_event(event))\n",
    "    \n",
    "    #df.columns = [\"Event_Name\", \"Venue\", \"Event_Date\", \"City\"]\n",
    "    df = pd.DataFrame.from_dict(rows)\n",
    "    return df"
   ]
  },
  {
   "cell_type": "code",
   "execution_count": 20,
   "metadata": {},
   "outputs": [],
   "source": [
    "events_df = scrape_events(\"https://concerts50.com/upcoming-concerts-in-new-york\")"
   ]
  },
  {
   "cell_type": "code",
   "execution_count": 22,
   "metadata": {},
   "outputs": [
    {
     "name": "stdout",
     "output_type": "stream",
     "text": [
      "<class 'pandas.core.frame.DataFrame'>\n",
      "RangeIndex: 786 entries, 0 to 785\n",
      "Data columns (total 4 columns):\n",
      " #   Column      Non-Null Count  Dtype \n",
      "---  ------      --------------  ----- \n",
      " 0   Event_Name  786 non-null    object\n",
      " 1   Venue       786 non-null    object\n",
      " 2   Event_Date  786 non-null    object\n",
      " 3   City        786 non-null    object\n",
      "dtypes: object(4)\n",
      "memory usage: 24.7+ KB\n"
     ]
    },
    {
     "data": {
      "text/plain": [
       "None"
      ]
     },
     "metadata": {},
     "output_type": "display_data"
    },
    {
     "data": {
      "text/html": [
       "<div>\n",
       "<style scoped>\n",
       "    .dataframe tbody tr th:only-of-type {\n",
       "        vertical-align: middle;\n",
       "    }\n",
       "\n",
       "    .dataframe tbody tr th {\n",
       "        vertical-align: top;\n",
       "    }\n",
       "\n",
       "    .dataframe thead th {\n",
       "        text-align: right;\n",
       "    }\n",
       "</style>\n",
       "<table border=\"1\" class=\"dataframe\">\n",
       "  <thead>\n",
       "    <tr style=\"text-align: right;\">\n",
       "      <th></th>\n",
       "      <th>Event_Name</th>\n",
       "      <th>Venue</th>\n",
       "      <th>Event_Date</th>\n",
       "      <th>City</th>\n",
       "    </tr>\n",
       "  </thead>\n",
       "  <tbody>\n",
       "    <tr>\n",
       "      <th>count</th>\n",
       "      <td>786</td>\n",
       "      <td>786</td>\n",
       "      <td>786</td>\n",
       "      <td>786</td>\n",
       "    </tr>\n",
       "    <tr>\n",
       "      <th>unique</th>\n",
       "      <td>651</td>\n",
       "      <td>146</td>\n",
       "      <td>295</td>\n",
       "      <td>56</td>\n",
       "    </tr>\n",
       "    <tr>\n",
       "      <th>top</th>\n",
       "      <td>2021 Season Tickets</td>\n",
       "      <td>Daryl's House</td>\n",
       "      <td>2021-12-31</td>\n",
       "      <td>New York</td>\n",
       "    </tr>\n",
       "    <tr>\n",
       "      <th>freq</th>\n",
       "      <td>7</td>\n",
       "      <td>101</td>\n",
       "      <td>9</td>\n",
       "      <td>230</td>\n",
       "    </tr>\n",
       "  </tbody>\n",
       "</table>\n",
       "</div>"
      ],
      "text/plain": [
       "                 Event_Name          Venue  Event_Date      City\n",
       "count                   786            786         786       786\n",
       "unique                  651            146         295        56\n",
       "top     2021 Season Tickets  Daryl's House  2021-12-31  New York\n",
       "freq                      7            101           9       230"
      ]
     },
     "metadata": {},
     "output_type": "display_data"
    },
    {
     "data": {
      "text/html": [
       "<div>\n",
       "<style scoped>\n",
       "    .dataframe tbody tr th:only-of-type {\n",
       "        vertical-align: middle;\n",
       "    }\n",
       "\n",
       "    .dataframe tbody tr th {\n",
       "        vertical-align: top;\n",
       "    }\n",
       "\n",
       "    .dataframe thead th {\n",
       "        text-align: right;\n",
       "    }\n",
       "</style>\n",
       "<table border=\"1\" class=\"dataframe\">\n",
       "  <thead>\n",
       "    <tr style=\"text-align: right;\">\n",
       "      <th></th>\n",
       "      <th>Event_Name</th>\n",
       "      <th>Venue</th>\n",
       "      <th>Event_Date</th>\n",
       "      <th>City</th>\n",
       "    </tr>\n",
       "  </thead>\n",
       "  <tbody>\n",
       "    <tr>\n",
       "      <th>0</th>\n",
       "      <td>Chris Raabe</td>\n",
       "      <td>Daryl's House</td>\n",
       "      <td>2021-03-31</td>\n",
       "      <td>Pawling</td>\n",
       "    </tr>\n",
       "    <tr>\n",
       "      <th>1</th>\n",
       "      <td>Goodie Mob</td>\n",
       "      <td>Sony Hall</td>\n",
       "      <td>2021-03-31</td>\n",
       "      <td>New York</td>\n",
       "    </tr>\n",
       "    <tr>\n",
       "      <th>2</th>\n",
       "      <td>David Powers</td>\n",
       "      <td>Daryl's House</td>\n",
       "      <td>2021-04-01</td>\n",
       "      <td>Pawling</td>\n",
       "    </tr>\n",
       "    <tr>\n",
       "      <th>3</th>\n",
       "      <td>Miller &amp; The Other Sinners - RISE Record Release</td>\n",
       "      <td>Tralf</td>\n",
       "      <td>2021-04-01</td>\n",
       "      <td>Buffalo</td>\n",
       "    </tr>\n",
       "    <tr>\n",
       "      <th>4</th>\n",
       "      <td>Shawn Colvin</td>\n",
       "      <td>Hart Theatre at the Egg</td>\n",
       "      <td>2021-04-01</td>\n",
       "      <td>Albany</td>\n",
       "    </tr>\n",
       "    <tr>\n",
       "      <th>5</th>\n",
       "      <td>TV Girl with Jordana Tickets (16+ Event, Resch...</td>\n",
       "      <td>Music Hall of Williamsburg</td>\n",
       "      <td>2021-04-01</td>\n",
       "      <td>Brooklyn</td>\n",
       "    </tr>\n",
       "    <tr>\n",
       "      <th>6</th>\n",
       "      <td>Lilly Hiatt &amp; The Harmaleighs Tickets (21+ Eve...</td>\n",
       "      <td>Rough Trade NYC</td>\n",
       "      <td>2021-04-01</td>\n",
       "      <td>Brooklyn</td>\n",
       "    </tr>\n",
       "    <tr>\n",
       "      <th>7</th>\n",
       "      <td>Auguste and Alden</td>\n",
       "      <td>Daryl's House</td>\n",
       "      <td>2021-04-02</td>\n",
       "      <td>Pawling</td>\n",
       "    </tr>\n",
       "    <tr>\n",
       "      <th>8</th>\n",
       "      <td>The Yachtfathers</td>\n",
       "      <td>Tralf</td>\n",
       "      <td>2021-04-02</td>\n",
       "      <td>Buffalo</td>\n",
       "    </tr>\n",
       "    <tr>\n",
       "      <th>9</th>\n",
       "      <td>Southside Johnny and the Asbury Jukes Tickets ...</td>\n",
       "      <td>Center For The Arts Of Homer</td>\n",
       "      <td>2021-04-02</td>\n",
       "      <td>Homer</td>\n",
       "    </tr>\n",
       "  </tbody>\n",
       "</table>\n",
       "</div>"
      ],
      "text/plain": [
       "                                          Event_Name  \\\n",
       "0                                        Chris Raabe   \n",
       "1                                         Goodie Mob   \n",
       "2                                       David Powers   \n",
       "3   Miller & The Other Sinners - RISE Record Release   \n",
       "4                                       Shawn Colvin   \n",
       "5  TV Girl with Jordana Tickets (16+ Event, Resch...   \n",
       "6  Lilly Hiatt & The Harmaleighs Tickets (21+ Eve...   \n",
       "7                                  Auguste and Alden   \n",
       "8                                   The Yachtfathers   \n",
       "9  Southside Johnny and the Asbury Jukes Tickets ...   \n",
       "\n",
       "                          Venue  Event_Date      City  \n",
       "0                 Daryl's House  2021-03-31   Pawling  \n",
       "1                     Sony Hall  2021-03-31  New York  \n",
       "2                 Daryl's House  2021-04-01   Pawling  \n",
       "3                         Tralf  2021-04-01   Buffalo  \n",
       "4       Hart Theatre at the Egg  2021-04-01    Albany  \n",
       "5    Music Hall of Williamsburg  2021-04-01  Brooklyn  \n",
       "6               Rough Trade NYC  2021-04-01  Brooklyn  \n",
       "7                 Daryl's House  2021-04-02   Pawling  \n",
       "8                         Tralf  2021-04-02   Buffalo  \n",
       "9  Center For The Arts Of Homer  2021-04-02     Homer  "
      ]
     },
     "execution_count": 22,
     "metadata": {},
     "output_type": "execute_result"
    }
   ],
   "source": [
    "display(events_df.info())\n",
    "display(events_df.describe())\n",
    "events_df.head(10)"
   ]
  },
  {
   "cell_type": "markdown",
   "metadata": {},
   "source": [
    "## Write a Function to Retrieve the URL for the Next Page"
   ]
  },
  {
   "cell_type": "code",
   "execution_count": 13,
   "metadata": {},
   "outputs": [],
   "source": [
    "# This is incorporated into the function above"
   ]
  },
  {
   "cell_type": "markdown",
   "metadata": {},
   "source": [
    "## Scrape the Next 1000 Events for Your Area\n",
    "\n",
    "Display the data sorted by the number of attendees. If there is a tie for the number attending, sort by event date."
   ]
  },
  {
   "cell_type": "code",
   "execution_count": 14,
   "metadata": {},
   "outputs": [],
   "source": [
    "# There are only(!) 786 listed on this site, and they were all scraped above. They are already sorted by date."
   ]
  },
  {
   "cell_type": "markdown",
   "metadata": {},
   "source": [
    "## Summary \n",
    "\n",
    "Congratulations! In this lab, you successfully developed a pipeline to scrape a website for concert event information!"
   ]
  }
 ],
 "metadata": {
  "kernelspec": {
   "display_name": "Python 3",
   "language": "python",
   "name": "python3"
  },
  "language_info": {
   "codemirror_mode": {
    "name": "ipython",
    "version": 3
   },
   "file_extension": ".py",
   "mimetype": "text/x-python",
   "name": "python",
   "nbconvert_exporter": "python",
   "pygments_lexer": "ipython3",
   "version": "3.6.9"
  }
 },
 "nbformat": 4,
 "nbformat_minor": 2
}
